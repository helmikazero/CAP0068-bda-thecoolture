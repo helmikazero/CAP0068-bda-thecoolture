{
  "nbformat": 4,
  "nbformat_minor": 0,
  "metadata": {
    "colab": {
      "name": "Capstone Project - Batik Pattern Recognition - ResNet50v2",
      "provenance": [],
      "mount_file_id": "1JkFJWFc1r0-4Y3_gCCV899k7y9un3sl2",
      "authorship_tag": "ABX9TyOtBFPyk7hbFScutZ3/EA8b",
      "include_colab_link": true
    },
    "kernelspec": {
      "name": "python3",
      "display_name": "Python 3"
    },
    "language_info": {
      "name": "python"
    }
  },
  "cells": [
    {
      "cell_type": "markdown",
      "metadata": {
        "id": "view-in-github",
        "colab_type": "text"
      },
      "source": [
        "<a href=\"https://colab.research.google.com/github/ynw99/ML-BangkitCapstone/blob/main/Capstone_Project_Batik_Pattern_Recognition_ResNet50v2.ipynb\" target=\"_parent\"><img src=\"https://colab.research.google.com/assets/colab-badge.svg\" alt=\"Open In Colab\"/></a>"
      ]
    },
    {
      "cell_type": "code",
      "metadata": {
        "colab": {
          "base_uri": "https://localhost:8080/"
        },
        "id": "lG4boKD7bMLU",
        "outputId": "69aca28f-fdf5-446e-d4ca-54b9039a648c"
      },
      "source": [
        "!nvidia-smi"
      ],
      "execution_count": null,
      "outputs": [
        {
          "output_type": "stream",
          "text": [
            "Tue Jun  1 23:22:01 2021       \n",
            "+-----------------------------------------------------------------------------+\n",
            "| NVIDIA-SMI 465.19.01    Driver Version: 460.32.03    CUDA Version: 11.2     |\n",
            "|-------------------------------+----------------------+----------------------+\n",
            "| GPU  Name        Persistence-M| Bus-Id        Disp.A | Volatile Uncorr. ECC |\n",
            "| Fan  Temp  Perf  Pwr:Usage/Cap|         Memory-Usage | GPU-Util  Compute M. |\n",
            "|                               |                      |               MIG M. |\n",
            "|===============================+======================+======================|\n",
            "|   0  Tesla T4            Off  | 00000000:00:04.0 Off |                    0 |\n",
            "| N/A   55C    P8    10W /  70W |      0MiB / 15109MiB |      0%      Default |\n",
            "|                               |                      |                  N/A |\n",
            "+-------------------------------+----------------------+----------------------+\n",
            "                                                                               \n",
            "+-----------------------------------------------------------------------------+\n",
            "| Processes:                                                                  |\n",
            "|  GPU   GI   CI        PID   Type   Process name                  GPU Memory |\n",
            "|        ID   ID                                                   Usage      |\n",
            "|=============================================================================|\n",
            "|  No running processes found                                                 |\n",
            "+-----------------------------------------------------------------------------+\n"
          ],
          "name": "stdout"
        }
      ]
    },
    {
      "cell_type": "markdown",
      "metadata": {
        "id": "hbopwp4Aprc8"
      },
      "source": [
        "# Preparing Dataset"
      ]
    },
    {
      "cell_type": "markdown",
      "metadata": {
        "id": "6AKMsT77qRrG"
      },
      "source": [
        "## Extract Dataset\n",
        "Start here."
      ]
    },
    {
      "cell_type": "code",
      "metadata": {
        "id": "PqLFNHIVqRLT"
      },
      "source": [
        "%%capture\n",
        "!unzip \"/content/drive/MyDrive/Dataset/dataset_batik.zip\" -d \"/content/dataset/\""
      ],
      "execution_count": null,
      "outputs": []
    },
    {
      "cell_type": "markdown",
      "metadata": {
        "id": "_er_khPHKW60"
      },
      "source": [
        "## Delete Error Images"
      ]
    },
    {
      "cell_type": "code",
      "metadata": {
        "id": "XcAR31qqKZzA"
      },
      "source": [
        "%%capture\n",
        "!rm \"/content/dataset/Training/Ceplok/Yogya-Tulis-Prabu anom Truntum grompol Riningan-Truntum,Grompol-Sogan.jpg\" \"/content/dataset/Training/Parang/KP042.jpg\" \"/content/dataset/Training/Parang/KP044.jpg\"  \"/content/dataset/Training/Parang/Kudus-Parang-Parang,Flora-Non Sogan (1).jpg\" \"/content/dataset/Training/Parang/Kudus-Parang-Parang,Flora-Non Sogan (2).jpg\""
      ],
      "execution_count": null,
      "outputs": []
    },
    {
      "cell_type": "markdown",
      "metadata": {
        "id": "lfl3VDGOueK9"
      },
      "source": [
        "# Data Preprocessing & Modelling"
      ]
    },
    {
      "cell_type": "code",
      "metadata": {
        "id": "R4hAgSpu88nW"
      },
      "source": [
        "import tensorflow as tf\n",
        "import keras_preprocessing\n",
        "from tensorflow.keras.applications import ResNet50V2\n",
        "from keras_preprocessing import image\n",
        "from keras_preprocessing.image import ImageDataGenerator"
      ],
      "execution_count": null,
      "outputs": []
    },
    {
      "cell_type": "code",
      "metadata": {
        "colab": {
          "base_uri": "https://localhost:8080/"
        },
        "id": "U6fnKn7HQBo0",
        "outputId": "907a9a24-aaec-41dd-cde8-9c379a2a9615"
      },
      "source": [
        "TRAINING_DIR = '/content/dataset/Training'\n",
        "VALIDATION_DIR = '/content/dataset/Testing'\n",
        "\n",
        "training_datagen = ImageDataGenerator(\n",
        "    rescale = 1./255,\n",
        "    rotation_range = 180\n",
        ")\n",
        "\n",
        "validation_datagen = ImageDataGenerator(\n",
        "    rescale = 1./255\n",
        ")\n",
        "\n",
        "train_generator = training_datagen.flow_from_directory(\n",
        "    TRAINING_DIR,\n",
        "    target_size = (150,150),\n",
        "    class_mode = 'categorical',\n",
        "    batch_size = 10\n",
        ")\n",
        "\n",
        "validation_generator = validation_datagen.flow_from_directory(\n",
        "    VALIDATION_DIR,\n",
        "    target_size = (150,150),\n",
        "    class_mode = 'categorical',\n",
        "    batch_size = 10\n",
        ")"
      ],
      "execution_count": null,
      "outputs": [
        {
          "output_type": "stream",
          "text": [
            "Found 580 images belonging to 6 classes.\n",
            "Found 60 images belonging to 6 classes.\n"
          ],
          "name": "stdout"
        }
      ]
    },
    {
      "cell_type": "code",
      "metadata": {
        "colab": {
          "base_uri": "https://localhost:8080/"
        },
        "id": "CAyj7IJWUbaM",
        "outputId": "c632c326-cb3c-4d32-989f-6eec2f41c890"
      },
      "source": [
        "tf.keras.backend.clear_session()\n",
        "\n",
        "# Pretrained model\n",
        "feature_extractor =  ResNet50V2(include_top = False,\n",
        "                           weights='imagenet',\n",
        "                           input_shape=(150,150,3))\n",
        "\n",
        "# No need to retrain\n",
        "feature_extractor.trainable = False\n",
        "\n",
        "# Set the input layer\n",
        "input_ = tf.keras.Input(shape=(150,150,3))\n",
        "\n",
        "# Set the feature extractor layer\n",
        "x = feature_extractor(input_, training=False)\n",
        "\n",
        "# Set the pooling layer\n",
        "x = tf.keras.layers.GlobalAveragePooling2D()(x)\n",
        "\n",
        "# Set the output layer\n",
        "output_ = tf.keras.layers.Dense(6, activation='softmax')(x)\n",
        "\n",
        "# Create model object\n",
        "model = tf.keras.Model(input_, output_)\n",
        "\n",
        "# Model summary\n",
        "model.summary()"
      ],
      "execution_count": null,
      "outputs": [
        {
          "output_type": "stream",
          "text": [
            "Downloading data from https://storage.googleapis.com/tensorflow/keras-applications/resnet/resnet50v2_weights_tf_dim_ordering_tf_kernels_notop.h5\n",
            "94674944/94668760 [==============================] - 1s 0us/step\n",
            "Model: \"model\"\n",
            "_________________________________________________________________\n",
            "Layer (type)                 Output Shape              Param #   \n",
            "=================================================================\n",
            "input_2 (InputLayer)         [(None, 150, 150, 3)]     0         \n",
            "_________________________________________________________________\n",
            "resnet50v2 (Functional)      (None, 5, 5, 2048)        23564800  \n",
            "_________________________________________________________________\n",
            "global_average_pooling2d (Gl (None, 2048)              0         \n",
            "_________________________________________________________________\n",
            "dense (Dense)                (None, 6)                 12294     \n",
            "=================================================================\n",
            "Total params: 23,577,094\n",
            "Trainable params: 12,294\n",
            "Non-trainable params: 23,564,800\n",
            "_________________________________________________________________\n"
          ],
          "name": "stdout"
        }
      ]
    },
    {
      "cell_type": "markdown",
      "metadata": {
        "id": "feufKLPj2usI"
      },
      "source": [
        "# Model Training"
      ]
    },
    {
      "cell_type": "code",
      "metadata": {
        "id": "69NAlQsdWD24"
      },
      "source": [
        "model.compile(\n",
        "    loss = 'categorical_crossentropy',\n",
        "    optimizer = 'sgd',\n",
        "    metrics = ['accuracy']\n",
        ")"
      ],
      "execution_count": null,
      "outputs": []
    },
    {
      "cell_type": "code",
      "metadata": {
        "id": "7F1ozeFFlmIU"
      },
      "source": [
        "class myCallback(tf.keras.callbacks.Callback):\n",
        "    def on_epoch_end(self, epoch, logs={}):\n",
        "        if(logs.get('accuracy') > 0.90):\n",
        "            print('\\nReached above 90% accuracy so cancelling training!')\n",
        "            self.model.stop_training = True\n",
        "\n",
        "callbacks = myCallback()"
      ],
      "execution_count": null,
      "outputs": []
    },
    {
      "cell_type": "code",
      "metadata": {
        "colab": {
          "base_uri": "https://localhost:8080/"
        },
        "id": "pXZnN3BkWYls",
        "outputId": "7a6b8170-0a40-41d8-ce32-f0e08e48d75c"
      },
      "source": [
        "history = model.fit(\n",
        "    train_generator,\n",
        "    epochs = 60,\n",
        "    validation_data = validation_generator,\n",
        "    callbacks = [callbacks]\n",
        ")"
      ],
      "execution_count": null,
      "outputs": [
        {
          "output_type": "stream",
          "text": [
            "Epoch 1/60\n",
            "58/58 [==============================] - 40s 125ms/step - loss: 1.9788 - accuracy: 0.4017 - val_loss: 1.5927 - val_accuracy: 0.4000\n",
            "Epoch 2/60\n",
            "58/58 [==============================] - 7s 115ms/step - loss: 1.4887 - accuracy: 0.4983 - val_loss: 1.7998 - val_accuracy: 0.4500\n",
            "Epoch 3/60\n",
            "58/58 [==============================] - 7s 114ms/step - loss: 1.4277 - accuracy: 0.5414 - val_loss: 2.2739 - val_accuracy: 0.3667\n",
            "Epoch 4/60\n",
            "58/58 [==============================] - 7s 113ms/step - loss: 1.3373 - accuracy: 0.5483 - val_loss: 2.0866 - val_accuracy: 0.3500\n",
            "Epoch 5/60\n",
            "58/58 [==============================] - 7s 115ms/step - loss: 1.3620 - accuracy: 0.5500 - val_loss: 1.7848 - val_accuracy: 0.3667\n",
            "Epoch 6/60\n",
            "58/58 [==============================] - 7s 115ms/step - loss: 1.2068 - accuracy: 0.6052 - val_loss: 2.1404 - val_accuracy: 0.3833\n",
            "Epoch 7/60\n",
            "58/58 [==============================] - 7s 114ms/step - loss: 1.1670 - accuracy: 0.5862 - val_loss: 2.2076 - val_accuracy: 0.4167\n",
            "Epoch 8/60\n",
            "58/58 [==============================] - 7s 115ms/step - loss: 1.2136 - accuracy: 0.6000 - val_loss: 2.0767 - val_accuracy: 0.4000\n",
            "Epoch 9/60\n",
            "58/58 [==============================] - 7s 113ms/step - loss: 1.1970 - accuracy: 0.5879 - val_loss: 1.4450 - val_accuracy: 0.5000\n",
            "Epoch 10/60\n",
            "58/58 [==============================] - 7s 114ms/step - loss: 1.0969 - accuracy: 0.5931 - val_loss: 2.1466 - val_accuracy: 0.4333\n",
            "Epoch 11/60\n",
            "58/58 [==============================] - 7s 114ms/step - loss: 1.1294 - accuracy: 0.6103 - val_loss: 2.1570 - val_accuracy: 0.4333\n",
            "Epoch 12/60\n",
            "58/58 [==============================] - 7s 114ms/step - loss: 1.0679 - accuracy: 0.6517 - val_loss: 1.8129 - val_accuracy: 0.4500\n",
            "Epoch 13/60\n",
            "58/58 [==============================] - 7s 113ms/step - loss: 1.0651 - accuracy: 0.6397 - val_loss: 1.6125 - val_accuracy: 0.4167\n",
            "Epoch 14/60\n",
            "58/58 [==============================] - 7s 112ms/step - loss: 1.0800 - accuracy: 0.6293 - val_loss: 1.7630 - val_accuracy: 0.5500\n",
            "Epoch 15/60\n",
            "58/58 [==============================] - 7s 113ms/step - loss: 0.9988 - accuracy: 0.6241 - val_loss: 1.8818 - val_accuracy: 0.4333\n",
            "Epoch 16/60\n",
            "58/58 [==============================] - 7s 114ms/step - loss: 1.0133 - accuracy: 0.6500 - val_loss: 2.2071 - val_accuracy: 0.3500\n",
            "Epoch 17/60\n",
            "58/58 [==============================] - 7s 113ms/step - loss: 0.9999 - accuracy: 0.6552 - val_loss: 2.2369 - val_accuracy: 0.3833\n",
            "Epoch 18/60\n",
            "58/58 [==============================] - 7s 112ms/step - loss: 0.9177 - accuracy: 0.6707 - val_loss: 1.7326 - val_accuracy: 0.4833\n",
            "Epoch 19/60\n",
            "58/58 [==============================] - 7s 112ms/step - loss: 0.9445 - accuracy: 0.6534 - val_loss: 2.0651 - val_accuracy: 0.4833\n",
            "Epoch 20/60\n",
            "58/58 [==============================] - 7s 112ms/step - loss: 0.8576 - accuracy: 0.7069 - val_loss: 1.9075 - val_accuracy: 0.5333\n",
            "Epoch 21/60\n",
            "58/58 [==============================] - 7s 114ms/step - loss: 0.9876 - accuracy: 0.6466 - val_loss: 2.1746 - val_accuracy: 0.4500\n",
            "Epoch 22/60\n",
            "58/58 [==============================] - 7s 112ms/step - loss: 1.0086 - accuracy: 0.6414 - val_loss: 2.1953 - val_accuracy: 0.4833\n",
            "Epoch 23/60\n",
            "58/58 [==============================] - 7s 113ms/step - loss: 0.9408 - accuracy: 0.6707 - val_loss: 2.3304 - val_accuracy: 0.4000\n",
            "Epoch 24/60\n",
            "58/58 [==============================] - 6s 112ms/step - loss: 0.9358 - accuracy: 0.6741 - val_loss: 2.1396 - val_accuracy: 0.4667\n",
            "Epoch 25/60\n",
            "58/58 [==============================] - 7s 114ms/step - loss: 1.0287 - accuracy: 0.6690 - val_loss: 1.5952 - val_accuracy: 0.5500\n",
            "Epoch 26/60\n",
            "58/58 [==============================] - 7s 114ms/step - loss: 0.8694 - accuracy: 0.6897 - val_loss: 2.3182 - val_accuracy: 0.4333\n",
            "Epoch 27/60\n",
            "58/58 [==============================] - 7s 114ms/step - loss: 0.8877 - accuracy: 0.6914 - val_loss: 2.0200 - val_accuracy: 0.5000\n",
            "Epoch 28/60\n",
            "58/58 [==============================] - 7s 113ms/step - loss: 0.8250 - accuracy: 0.7034 - val_loss: 2.1121 - val_accuracy: 0.4500\n",
            "Epoch 29/60\n",
            "58/58 [==============================] - 7s 113ms/step - loss: 0.8884 - accuracy: 0.7052 - val_loss: 2.0433 - val_accuracy: 0.4833\n",
            "Epoch 30/60\n",
            "58/58 [==============================] - 7s 114ms/step - loss: 0.8956 - accuracy: 0.6948 - val_loss: 2.0072 - val_accuracy: 0.4500\n",
            "Epoch 31/60\n",
            "58/58 [==============================] - 7s 114ms/step - loss: 0.8563 - accuracy: 0.6845 - val_loss: 2.1097 - val_accuracy: 0.4333\n",
            "Epoch 32/60\n",
            "58/58 [==============================] - 7s 115ms/step - loss: 0.8330 - accuracy: 0.6897 - val_loss: 2.3456 - val_accuracy: 0.4333\n",
            "Epoch 33/60\n",
            "58/58 [==============================] - 7s 113ms/step - loss: 0.8722 - accuracy: 0.6914 - val_loss: 2.6361 - val_accuracy: 0.4500\n",
            "Epoch 34/60\n",
            "58/58 [==============================] - 7s 113ms/step - loss: 0.8802 - accuracy: 0.6897 - val_loss: 2.3697 - val_accuracy: 0.4500\n",
            "Epoch 35/60\n",
            "58/58 [==============================] - 7s 113ms/step - loss: 0.9284 - accuracy: 0.6845 - val_loss: 2.0541 - val_accuracy: 0.5500\n",
            "Epoch 36/60\n",
            "58/58 [==============================] - 7s 111ms/step - loss: 0.8012 - accuracy: 0.7103 - val_loss: 2.0922 - val_accuracy: 0.5500\n",
            "Epoch 37/60\n",
            "58/58 [==============================] - 7s 113ms/step - loss: 0.7705 - accuracy: 0.7138 - val_loss: 2.0890 - val_accuracy: 0.5667\n",
            "Epoch 38/60\n",
            "58/58 [==============================] - 7s 113ms/step - loss: 0.8726 - accuracy: 0.6862 - val_loss: 2.4978 - val_accuracy: 0.4500\n",
            "Epoch 39/60\n",
            "58/58 [==============================] - 7s 114ms/step - loss: 0.8058 - accuracy: 0.7224 - val_loss: 2.1794 - val_accuracy: 0.4833\n",
            "Epoch 40/60\n",
            "58/58 [==============================] - 7s 113ms/step - loss: 0.7816 - accuracy: 0.7190 - val_loss: 2.2327 - val_accuracy: 0.4667\n",
            "Epoch 41/60\n",
            "58/58 [==============================] - 7s 115ms/step - loss: 0.8605 - accuracy: 0.6759 - val_loss: 2.1381 - val_accuracy: 0.4333\n",
            "Epoch 42/60\n",
            "58/58 [==============================] - 7s 112ms/step - loss: 0.8392 - accuracy: 0.7069 - val_loss: 2.3686 - val_accuracy: 0.5167\n",
            "Epoch 43/60\n",
            "58/58 [==============================] - 7s 114ms/step - loss: 0.7369 - accuracy: 0.7276 - val_loss: 2.0291 - val_accuracy: 0.5500\n",
            "Epoch 44/60\n",
            "58/58 [==============================] - 6s 112ms/step - loss: 0.7222 - accuracy: 0.7207 - val_loss: 2.1827 - val_accuracy: 0.5000\n",
            "Epoch 45/60\n",
            "58/58 [==============================] - 7s 114ms/step - loss: 0.7632 - accuracy: 0.7466 - val_loss: 1.9389 - val_accuracy: 0.5500\n",
            "Epoch 46/60\n",
            "58/58 [==============================] - 7s 113ms/step - loss: 0.7108 - accuracy: 0.7362 - val_loss: 3.0279 - val_accuracy: 0.4167\n",
            "Epoch 47/60\n",
            "58/58 [==============================] - 7s 113ms/step - loss: 0.7783 - accuracy: 0.7190 - val_loss: 2.3871 - val_accuracy: 0.4000\n",
            "Epoch 48/60\n",
            "58/58 [==============================] - 7s 113ms/step - loss: 0.7640 - accuracy: 0.7379 - val_loss: 2.6108 - val_accuracy: 0.3833\n",
            "Epoch 49/60\n",
            "58/58 [==============================] - 7s 113ms/step - loss: 0.7404 - accuracy: 0.7362 - val_loss: 2.1077 - val_accuracy: 0.5500\n",
            "Epoch 50/60\n",
            "58/58 [==============================] - 7s 113ms/step - loss: 0.8051 - accuracy: 0.7103 - val_loss: 2.4067 - val_accuracy: 0.4333\n",
            "Epoch 51/60\n",
            "58/58 [==============================] - 7s 115ms/step - loss: 0.8021 - accuracy: 0.7328 - val_loss: 2.1599 - val_accuracy: 0.5000\n",
            "Epoch 52/60\n",
            "58/58 [==============================] - 7s 114ms/step - loss: 0.7404 - accuracy: 0.7362 - val_loss: 2.2358 - val_accuracy: 0.5167\n",
            "Epoch 53/60\n",
            "58/58 [==============================] - 7s 114ms/step - loss: 0.7960 - accuracy: 0.7397 - val_loss: 2.0548 - val_accuracy: 0.5000\n",
            "Epoch 54/60\n",
            "58/58 [==============================] - 7s 113ms/step - loss: 0.7110 - accuracy: 0.7310 - val_loss: 2.1555 - val_accuracy: 0.4667\n",
            "Epoch 55/60\n",
            "58/58 [==============================] - 7s 113ms/step - loss: 0.7075 - accuracy: 0.7362 - val_loss: 2.9251 - val_accuracy: 0.3333\n",
            "Epoch 56/60\n",
            "58/58 [==============================] - 7s 114ms/step - loss: 0.7610 - accuracy: 0.7207 - val_loss: 2.3567 - val_accuracy: 0.4833\n",
            "Epoch 57/60\n",
            "58/58 [==============================] - 7s 113ms/step - loss: 0.7452 - accuracy: 0.7207 - val_loss: 2.3716 - val_accuracy: 0.4667\n",
            "Epoch 58/60\n",
            "58/58 [==============================] - 7s 114ms/step - loss: 0.7187 - accuracy: 0.7190 - val_loss: 2.1540 - val_accuracy: 0.5167\n",
            "Epoch 59/60\n",
            "58/58 [==============================] - 7s 112ms/step - loss: 0.6884 - accuracy: 0.7431 - val_loss: 2.3060 - val_accuracy: 0.4833\n",
            "Epoch 60/60\n",
            "58/58 [==============================] - 7s 114ms/step - loss: 0.7009 - accuracy: 0.7362 - val_loss: 2.4417 - val_accuracy: 0.5000\n"
          ],
          "name": "stdout"
        }
      ]
    },
    {
      "cell_type": "markdown",
      "metadata": {
        "id": "ifU2rir62jov"
      },
      "source": [
        "## Save Model"
      ]
    },
    {
      "cell_type": "code",
      "metadata": {
        "id": "pahluNCP2h_S",
        "colab": {
          "base_uri": "https://localhost:8080/"
        },
        "outputId": "74d256cf-8a9f-44d7-8d81-d0e5b74c6590"
      },
      "source": [
        "model.save('/content/drive/MyDrive/Model/batik_TL_ResNet50v2_3.h5')"
      ],
      "execution_count": null,
      "outputs": [
        {
          "output_type": "stream",
          "text": [
            "/usr/local/lib/python3.7/dist-packages/tensorflow/python/keras/utils/generic_utils.py:497: CustomMaskWarning: Custom mask layers require a config and must override get_config. When loading, the custom mask layer must be passed to the custom_objects argument.\n",
            "  category=CustomMaskWarning)\n"
          ],
          "name": "stderr"
        }
      ]
    },
    {
      "cell_type": "markdown",
      "metadata": {
        "id": "q3gTr-fL3T5m"
      },
      "source": [
        "# Plot"
      ]
    },
    {
      "cell_type": "code",
      "metadata": {
        "id": "gBPIf2_F3Xz6"
      },
      "source": [
        "import matplotlib.pyplot as plt"
      ],
      "execution_count": null,
      "outputs": []
    },
    {
      "cell_type": "code",
      "metadata": {
        "colab": {
          "base_uri": "https://localhost:8080/",
          "height": 298
        },
        "id": "NdW7jKes3xN5",
        "outputId": "2af32605-117f-43b1-b68e-d3094e7e5f64"
      },
      "source": [
        "# 1\n",
        "acc = history.history['accuracy']\n",
        "loss = history.history['loss']\n",
        "val_acc = history.history['val_accuracy']\n",
        "val_loss = history.history['val_loss']\n",
        "\n",
        "epochs = range(len(acc))\n",
        "\n",
        "plt.plot(epochs, acc, 'r', label = 'Training Accuracy')\n",
        "plt.plot(epochs, val_acc, 'b', label = 'Validation Accuracy')\n",
        "plt.title('Training and Validation Accuracy')\n",
        "plt.legend(loc = 0)\n",
        "plt.figure()\n",
        "\n",
        "plt.show()"
      ],
      "execution_count": null,
      "outputs": [
        {
          "output_type": "display_data",
          "data": {
            "image/png": "[encoded data removed]",
            "text/plain": [
              "<Figure size 432x288 with 1 Axes>"
            ]
          },
          "metadata": {
            "tags": [],
            "needs_background": "light"
          }
        },
        {
          "output_type": "display_data",
          "data": {
            "text/plain": [
              "<Figure size 432x288 with 0 Axes>"
            ]
          },
          "metadata": {
            "tags": []
          }
        }
      ]
    }
  ]
}